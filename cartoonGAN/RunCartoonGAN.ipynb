{
  "nbformat": 4,
  "nbformat_minor": 0,
  "metadata": {
    "colab": {
      "name": "RunCartoonGAN.ipynb",
      "version": "0.3.2",
      "provenance": [],
      "collapsed_sections": [],
      "include_colab_link": true
    },
    "kernelspec": {
      "name": "python3",
      "display_name": "Python 3"
    },
    "accelerator": "GPU"
  },
  "cells": [
    {
      "cell_type": "markdown",
      "metadata": {
        "id": "view-in-github",
        "colab_type": "text"
      },
      "source": [
        "<a href=\"https://colab.research.google.com/github/julinas/202-project3/blob/scene/cartoonGAN/RunCartoonGAN.ipynb\" target=\"_parent\"><img src=\"https://colab.research.google.com/assets/colab-badge.svg\" alt=\"Open In Colab\"/></a>"
      ]
    },
    {
      "metadata": {
        "id": "Mkl_CrK731pf",
        "colab_type": "code",
        "cellView": "form",
        "colab": {
          "base_uri": "https://localhost:8080/",
          "height": 126
        },
        "outputId": "a335eb7d-5e1d-4a21-e2be-37bca41f4976"
      },
      "cell_type": "code",
      "source": [
        "#@title mount drive\n",
        "from google.colab import drive\n",
        "drive.mount('/content/drive')\n"
      ],
      "execution_count": 1,
      "outputs": [
        {
          "output_type": "stream",
          "text": [
            "Go to this URL in a browser: https://accounts.google.com/o/oauth2/auth?client_id=947318989803-6bn6qk8qdgf4n4g3pfee6491hc0brc4i.apps.googleusercontent.com&redirect_uri=urn%3Aietf%3Awg%3Aoauth%3A2.0%3Aoob&scope=email%20https%3A%2F%2Fwww.googleapis.com%2Fauth%2Fdocs.test%20https%3A%2F%2Fwww.googleapis.com%2Fauth%2Fdrive%20https%3A%2F%2Fwww.googleapis.com%2Fauth%2Fdrive.photos.readonly%20https%3A%2F%2Fwww.googleapis.com%2Fauth%2Fpeopleapi.readonly&response_type=code\n",
            "\n",
            "Enter your authorization code:\n",
            "··········\n",
            "Mounted at /content/drive\n"
          ],
          "name": "stdout"
        }
      ]
    },
    {
      "metadata": {
        "id": "J-Pjvgu2a5xi",
        "colab_type": "code",
        "cellView": "form",
        "colab": {
          "base_uri": "https://localhost:8080/",
          "height": 35
        },
        "outputId": "84432e6e-4c64-47c3-93da-fb6223c76088"
      },
      "cell_type": "code",
      "source": [
        "#@title cd to project3 folder\n",
        "%cd 'drive/My Drive/Colab Notebooks/project3'"
      ],
      "execution_count": 2,
      "outputs": [
        {
          "output_type": "stream",
          "text": [
            "/content/drive/My Drive/Colab Notebooks/project3\n"
          ],
          "name": "stdout"
        }
      ]
    },
    {
      "metadata": {
        "id": "1hvdynmmDmm3",
        "colab_type": "code",
        "cellView": "form",
        "colab": {}
      },
      "cell_type": "code",
      "source": [
        "#@title pytorch version run test\n",
        "# import torch\n",
        "# !python test.py --input_dir \"../sample\" --output_dir \"../sample_out\" --style Hosoda --gpu 0"
      ],
      "execution_count": 0,
      "outputs": []
    },
    {
      "metadata": {
        "id": "aLm5_WJReeUV",
        "colab_type": "code",
        "cellView": "form",
        "colab": {
          "base_uri": "https://localhost:8080/",
          "height": 35
        },
        "outputId": "e710cb4f-5c3e-43d9-dc72-cccfe3f1e791"
      },
      "cell_type": "code",
      "source": [
        "#@title imports \n",
        "import cv2\n",
        "import numpy as np\n",
        "import os\n",
        "import argparse\n",
        "from PIL import Image\n",
        "import tensorflow as tf\n",
        "\n",
        "from keras.layers import Input, Conv2D, Conv2DTranspose, MaxPooling2D, Flatten, Dense, BatchNormalization, ReLU, Add, LeakyReLU\n",
        "from keras.models import Sequential\n",
        "from keras.optimizers import *\n",
        "from keras import Model\n",
        "\n",
        "from keras.applications.vgg19 import VGG19, preprocess_input\n",
        "from keras.preprocessing import image\n",
        "from keras import backend as K"
      ],
      "execution_count": 3,
      "outputs": [
        {
          "output_type": "stream",
          "text": [
            "Using TensorFlow backend.\n"
          ],
          "name": "stderr"
        }
      ]
    },
    {
      "metadata": {
        "id": "u0XaI7KUESH3",
        "colab_type": "code",
        "cellView": "form",
        "colab": {}
      },
      "cell_type": "code",
      "source": [
        "#@title class Conv (Conv2D with padding=\"same\")\n",
        "class Conv(Conv2D):\n",
        "  def __init__(self, filters, kernel_size, **kwargs):\n",
        "    super(Conv, self).__init__(filters, kernel_size, padding=\"same\", **kwargs)"
      ],
      "execution_count": 0,
      "outputs": []
    },
    {
      "metadata": {
        "id": "WlIHjyIlNdHR",
        "colab_type": "code",
        "cellView": "form",
        "colab": {}
      },
      "cell_type": "code",
      "source": [
        "#@title class ConvT (Conv2DTranspose with padding=\"same\")\n",
        "class ConvT(Conv2DTranspose):\n",
        "  def __init__(self, filters, kernel_size, **kwargs):\n",
        "    super(ConvT, self).__init__(filters, kernel_size, padding=\"same\", **kwargs)"
      ],
      "execution_count": 0,
      "outputs": []
    },
    {
      "metadata": {
        "id": "JY8Ihydj5PDs",
        "colab_type": "code",
        "cellView": "form",
        "colab": {}
      },
      "cell_type": "code",
      "source": [
        "#@title class Norm (BatchNormalization with epsilon=1e-9)\n",
        "class Norm(BatchNormalization): \n",
        "  def __init__(self, **kwargs):\n",
        "    super(Norm, self).__init__(epsilon=1e-9, **kwargs)"
      ],
      "execution_count": 0,
      "outputs": []
    },
    {
      "metadata": {
        "id": "CL0OoYBt_A2u",
        "colab_type": "code",
        "cellView": "form",
        "colab": {}
      },
      "cell_type": "code",
      "source": [
        "#@title class LReLU (LeakyReLU with alpha=0.2)\n",
        "class LReLU(LeakyReLU):\n",
        "  def __init__(self, **kwargs):\n",
        "    super(LReLU, self).__init__(alpha=0.2, **kwargs)\n"
      ],
      "execution_count": 0,
      "outputs": []
    },
    {
      "metadata": {
        "id": "eAjxWGnSegps",
        "colab_type": "code",
        "cellView": "form",
        "colab": {}
      },
      "cell_type": "code",
      "source": [
        "#@title def make_generator (use: generator = make_generator())\n",
        "\n",
        "def make_generator():\n",
        "  in_ = Input(shape=(256, 256, 3))\n",
        "  conv1 = Conv(64, 7)(in_)\n",
        "  norm1 = Norm()(conv1)\n",
        "  relu1 = ReLU()(norm1)\n",
        "\n",
        "  # Down-convolution\n",
        "  conv2 = Conv(128, 3, strides=(2, 2))(relu1)\n",
        "  conv3 = Conv(128, 3)(conv2)\n",
        "  norm2 = Norm()(conv3)\n",
        "  relu2 = ReLU()(norm2)\n",
        "\n",
        "  conv4 = Conv(256, 3, strides=(2, 2))(relu2)\n",
        "  conv5 = Conv(256, 3)(conv4)\n",
        "  norm3 = Norm()(conv5)\n",
        "  relu3 = ReLU()(norm3)\n",
        "\n",
        "  # 8 residual blocks\n",
        "  # block_1\n",
        "  res_conv1_1 = Conv(256, 3)(relu3)\n",
        "  res_norm_1 = Norm()(res_conv1_1)\n",
        "  res_relu_1 = ReLU()(res_norm_1)\n",
        "  res_conv2_1 = Conv(256, 3)(res_relu_1)\n",
        "  res_norm2_1 = Norm()(res_conv2_1)\n",
        "  res_add_1 = Add()([relu3, res_norm2_1])\n",
        "\n",
        "  # block_2\n",
        "  res_conv1_2 = Conv(256, 3)(res_add_1)\n",
        "  res_norm_2 = Norm()(res_conv1_2)\n",
        "  res_relu_2 = ReLU()(res_norm_2)\n",
        "  res_conv2_2 = Conv(256, 3)(res_relu_2)\n",
        "  res_norm2_2 = Norm()(res_conv2_2)\n",
        "  res_add_2 = Add()([relu3, res_norm2_2])\n",
        "\n",
        "  # block_3\n",
        "  res_conv1_3 = Conv(256, 3)(res_add_2)\n",
        "  res_norm_3 = Norm()(res_conv1_3)\n",
        "  res_relu_3 = ReLU()(res_norm_3)\n",
        "  res_conv2_3 = Conv(256, 3)(res_relu_3)\n",
        "  res_norm2_3 = Norm()(res_conv2_3)\n",
        "  res_add_3 = Add()([relu3, res_norm2_3])\n",
        "\n",
        "  # block_4\n",
        "  res_conv1_4 = Conv(256, 3)(res_add_3)\n",
        "  res_norm_4 = Norm()(res_conv1_4)\n",
        "  res_relu_4 = ReLU()(res_norm_4)\n",
        "  res_conv2_4 = Conv(256, 3)(res_relu_4)\n",
        "  res_norm2_4 = Norm()(res_conv2_4)\n",
        "  res_add_4 = Add()([relu3, res_norm2_4])\n",
        "\n",
        "  # block_5\n",
        "  res_conv1_5 = Conv(256, 3)(res_add_4)\n",
        "  res_norm_5 = Norm()(res_conv1_5)\n",
        "  res_relu_5 = ReLU()(res_norm_5)\n",
        "  res_conv2_5 = Conv(256, 3)(res_relu_5)\n",
        "  res_norm2_5 = Norm()(res_conv2_5)\n",
        "  res_add_5 = Add()([relu3, res_norm2_5])\n",
        "\n",
        "  # block_6\n",
        "  res_conv1_6 = Conv(256, 3)(res_add_5)\n",
        "  res_norm_6 = Norm()(res_conv1_6)\n",
        "  res_relu_6 = ReLU()(res_norm_6)\n",
        "  res_conv2_6 = Conv(256, 3)(res_relu_6)\n",
        "  res_norm2_6 = Norm()(res_conv2_6)\n",
        "  res_add_6 = Add()([relu3, res_norm2_6])\n",
        "\n",
        "  # block_7\n",
        "  res_conv1_7 = Conv(256, 3)(res_add_6)\n",
        "  res_norm_7 = Norm()(res_conv1_7)\n",
        "  res_relu_7 = ReLU()(res_norm_7)\n",
        "  res_conv2_7 = Conv(256, 3)(res_relu_7)\n",
        "  res_norm2_7 = Norm()(res_conv2_7)\n",
        "  res_add_7 = Add()([relu3, res_norm2_7])\n",
        "\n",
        "  # block_8\n",
        "  res_conv1_8 = Conv(256, 3)(res_add_7)\n",
        "  res_norm_8 = Norm()(res_conv1_8)\n",
        "  res_relu_8 = ReLU()(res_norm_8)\n",
        "  res_conv2_8 = Conv(256, 3)(res_relu_8)\n",
        "  res_norm2_8 = Norm()(res_conv2_8)\n",
        "  res_add_8 = Add()([relu3, res_norm2_8])\n",
        "\n",
        "  # Up-convolution\n",
        "  upconv1 = ConvT(128, 3, strides=(2, 2))(res_add_8)\n",
        "  upconv2 = Conv(128, 3)(upconv1)\n",
        "  upnorm1 = Norm()(upconv2)\n",
        "  uprelu1 = ReLU()(upnorm1)\n",
        "\n",
        "  upconv3 = ConvT(64, 3, strides=(2, 2))(uprelu1)\n",
        "  upconv4 = Conv(64, 3)(upconv3)\n",
        "  upnorm2 = Norm()(upconv4)\n",
        "  uprelu2 = ReLU()(upnorm2)\n",
        "\n",
        "  out_ = Conv(3, 7)(uprelu2)\n",
        "  return Model(in_, out_)"
      ],
      "execution_count": 0,
      "outputs": []
    },
    {
      "metadata": {
        "id": "2SYq3jyV9Xqm",
        "colab_type": "code",
        "cellView": "form",
        "colab": {}
      },
      "cell_type": "code",
      "source": [
        "#@title def make_discriminator (use: discriminator = make_discriminator())\n",
        "\n",
        "def make_discriminator():\n",
        "  in_ = Input(shape=(256, 256, 3))\n",
        "  conv1 = Conv(32, 3)(in_)\n",
        "  relu1 = LReLU()(conv1)\n",
        "\n",
        "  conv2 = Conv(64, 3, strides=(2, 2))(relu1)\n",
        "  relu2 = LReLU()(conv2)\n",
        "  conv3 = Conv(128, 3)(relu2)\n",
        "  norm1 = Norm()(conv3)\n",
        "  relu3 = LReLU()(norm1)\n",
        "\n",
        "  conv4 = Conv(128, 3, strides=(2, 2))(relu3)\n",
        "  relu4 = LReLU()(conv4)\n",
        "  conv5 = Conv(256, 3)(relu4)\n",
        "  norm2 = Norm()(conv5)\n",
        "  relu5 = LReLU()(norm2)\n",
        "\n",
        "  conv6 = Conv(256, 3)(relu5)\n",
        "  norm3 = Norm()(conv6)\n",
        "  relu6 = LReLU()(norm3)\n",
        "  conv7 = Conv(1, 3)(relu6)\n",
        "  \n",
        "  flat = Flatten()(conv7)\n",
        "  \n",
        "  out_ = Dense(1, activation='softmax')(flat)\n",
        "  return Model(in_, out_)\n"
      ],
      "execution_count": 0,
      "outputs": []
    },
    {
      "metadata": {
        "id": "_wiNp2rr6AIq",
        "colab_type": "code",
        "cellView": "both",
        "colab": {}
      },
      "cell_type": "code",
      "source": [
        "#@title def vggLoss\n",
        "def vggLoss(a, b):\n",
        "  vgg = VGG19(weights='imagenet', include_top=False, input_shape=(256, 256, 3))\n",
        "#   a = a + tf.zeros((16, 256, 256, 3), dtype=a.dtype)\n",
        "#   b = b + tf.zeros((16, 256, 256, 3), dtype=b.dtype)\n",
        "#   diff = K.sum(a - b)\n",
        "  diff = vgg.predict(a) - vgg.predict(b)\n",
        "  return K.sum(K.abs(diff))\n"
      ],
      "execution_count": 0,
      "outputs": []
    },
    {
      "metadata": {
        "id": "MbsYivUC4JVg",
        "colab_type": "code",
        "colab": {}
      },
      "cell_type": "code",
      "source": [
        "def initVggLoss(a, b):\n",
        "  return K.sum(K.abs(a-b))"
      ],
      "execution_count": 0,
      "outputs": []
    },
    {
      "metadata": {
        "id": "XDqyNVkXYi1Z",
        "colab_type": "code",
        "cellView": "form",
        "colab": {}
      },
      "cell_type": "code",
      "source": [
        "#@title def edgeLoss\n",
        "def edgeLoss(a, b):\n",
        "  pass"
      ],
      "execution_count": 0,
      "outputs": []
    },
    {
      "metadata": {
        "id": "T2RjScOyc5B9",
        "colab_type": "code",
        "cellView": "both",
        "colab": {}
      },
      "cell_type": "code",
      "source": [
        "#@title def parseFramesFromVid #runs \n",
        "# def parseFramesFromVid(path):\n",
        "#   vidcap = cv2.VideoCapture(path)\n",
        "#   success,image = vidcap.read()\n",
        "#   count = 0\n",
        "#   while success:\n",
        "#     cv2.imwrite(\"keras_files/dataset/train/frame%d.jpg\" % count, image)\n",
        "#     success,image = vidcap.read()\n",
        "#     print(image.shape)\n",
        "#     count += 1\n",
        "\n",
        "# parseFramesFromVid('keras_files/tokyo.mp4') # this generates 6059 files"
      ],
      "execution_count": 0,
      "outputs": []
    },
    {
      "metadata": {
        "id": "7jqPtJe7gB_U",
        "colab_type": "code",
        "colab": {},
        "cellView": "both"
      },
      "cell_type": "code",
      "source": [
        "#@title def getDataFromPath\n",
        "def getDataFromPath(path):\n",
        "  data = []\n",
        "  for (_, _, fnames) in os.walk(path):\n",
        "    for fname in fnames:\n",
        "      fpath = path + \"/\" + fname\n",
        "      im = cv2.imread(fpath)\n",
        "      data.append(im)\n",
        "  return np.asarray(data)"
      ],
      "execution_count": 0,
      "outputs": []
    },
    {
      "metadata": {
        "id": "7vCtKgdOMjWq",
        "colab_type": "code",
        "colab": {},
        "cellView": "form"
      },
      "cell_type": "code",
      "source": [
        "#@title def getDataFromPathSingle (resizes and crops to center 256x256)\n",
        "def getDataFromPathSingle(paths):\n",
        "  data = []\n",
        "  for path in paths:\n",
        "    im = cv2.imread(path)\n",
        "    width = int(256/im.shape[0]*im.shape[1]) # calculate goal width, assuming width>height\n",
        "    im = cv2.resize(im, (width, 256)) # resize\n",
        "    crop_index = int(im.shape[1]/2 - 256/2) # crop index so width is 256\n",
        "    im = im[:, crop_index:crop_index+256] # crop\n",
        "    data.append(im)\n",
        "  return np.asarray(data)"
      ],
      "execution_count": 0,
      "outputs": []
    },
    {
      "metadata": {
        "id": "Xt0sbZZfA2sY",
        "colab_type": "code",
        "cellView": "both",
        "colab": {}
      },
      "cell_type": "code",
      "source": [
        "# #@title class CartoonGAN\n",
        "class CartoonGAN():\n",
        "  def __init__(self):\n",
        "    self.g = make_generator()\n",
        "    self.d = make_discriminator()\n",
        "    self.vgg = VGG19(weights='imagenet', include_top=False, input_shape=(256, 256, 3))\n",
        "    self.vgg.trainable = False\n",
        "    for l in self.vgg.layers:\n",
        "      l.trainable = False\n",
        "    self.vggout = self.vgg(self.g.output)\n",
        "    self.initModel = Model(self.g.input, self.vggout)\n",
        "    self.initModel.compile(loss=initVggLoss, optimizer='adam')\n",
        "    \n",
        "  \n",
        "  def pretrainGenerator(self, photos, epochs=5):\n",
        "    # goal of this step is to reconstruct image with \n",
        "    # references: https://stackoverflow.com/questions/43914931/vgg-perceptual-loss-in-keras\n",
        "    \n",
        "    # adjust training data for combined model\n",
        "    goal_pred = self.vgg.predict(photos)\n",
        "    \n",
        "\n",
        "    # train over combined model\n",
        "    self.initModel.fit(photos, goal_pred, batch_size=16, epochs=epochs)\n",
        "    self.g.save('keras_files/initializedGenerator.hdf5')\n",
        "  \n",
        "  def train(self, photos):\n",
        "    pass\n",
        "  \n",
        "  def generate(self, photos):\n",
        "    gen_pred = self.g.predict(photos)\n",
        "    print(gen_pred.shape)\n",
        "    for i in range(gen_pred.shape[0]):\n",
        "      im_array = gen_pred[i]\n",
        "      im = Image.fromarray((im_array * 255 / np.max(im_array)).astype('uint8'))\n",
        "      im.save('keras_files/sample_out/' + str(i) + '.jpg')\n",
        "    "
      ],
      "execution_count": 0,
      "outputs": []
    },
    {
      "metadata": {
        "id": "1n9dzk5-opUD",
        "colab_type": "code",
        "colab": {}
      },
      "cell_type": "code",
      "source": [
        "photos = getDataFromPath('keras_files/dataset/train256x256')"
      ],
      "execution_count": 0,
      "outputs": []
    },
    {
      "metadata": {
        "id": "5Rj7fh93M5FM",
        "colab_type": "code",
        "colab": {},
        "cellView": "form"
      },
      "cell_type": "code",
      "source": [
        "#@title create GAN and run initializer\n",
        "gan = CartoonGAN()\n",
        "gan.pretrainGenerator(photos, epochs=20)"
      ],
      "execution_count": 0,
      "outputs": []
    },
    {
      "metadata": {
        "id": "pIcqO1fQDiGv",
        "colab_type": "code",
        "colab": {},
        "cellView": "form"
      },
      "cell_type": "code",
      "source": [
        "#@title test generate\n",
        "testdata = getDataFromPathSingle(['keras_files/dataset/train/frame1545.jpg', 'keras_files/dataset/train/frame1546.jpg'])\n",
        "gan.generate(testdata)"
      ],
      "execution_count": 0,
      "outputs": []
    },
    {
      "metadata": {
        "id": "No0connTWxQp",
        "colab_type": "code",
        "colab": {}
      },
      "cell_type": "code",
      "source": [
        "#@title train GAN\n",
        "gan.train()"
      ],
      "execution_count": 0,
      "outputs": []
    }
  ]
}