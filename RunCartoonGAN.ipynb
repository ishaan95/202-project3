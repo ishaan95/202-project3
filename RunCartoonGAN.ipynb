{
  "nbformat": 4,
  "nbformat_minor": 0,
  "metadata": {
    "colab": {
      "name": "RunCartoonGAN.ipynb",
      "version": "0.3.2",
      "provenance": [],
      "collapsed_sections": [],
      "include_colab_link": true
    },
    "kernelspec": {
      "name": "python3",
      "display_name": "Python 3"
    },
    "accelerator": "GPU"
  },
  "cells": [
    {
      "cell_type": "markdown",
      "metadata": {
        "id": "view-in-github",
        "colab_type": "text"
      },
      "source": [
        "<a href=\"https://colab.research.google.com/github/julinas/202-project3/blob/scene/RunCartoonGAN.ipynb\" target=\"_parent\"><img src=\"https://colab.research.google.com/assets/colab-badge.svg\" alt=\"Open In Colab\"/></a>"
      ]
    },
    {
      "metadata": {
        "id": "Mkl_CrK731pf",
        "colab_type": "code",
        "cellView": "form",
        "outputId": "5a996af5-0f0e-4f12-ded3-4016649c6bf6",
        "colab": {
          "base_uri": "https://localhost:8080/",
          "height": 126
        }
      },
      "cell_type": "code",
      "source": [
        "#@title mount drive\n",
        "from google.colab import drive\n",
        "drive.mount('/content/drive')\n"
      ],
      "execution_count": 4,
      "outputs": [
        {
          "output_type": "stream",
          "text": [
            "Go to this URL in a browser: https://accounts.google.com/o/oauth2/auth?client_id=947318989803-6bn6qk8qdgf4n4g3pfee6491hc0brc4i.apps.googleusercontent.com&redirect_uri=urn%3Aietf%3Awg%3Aoauth%3A2.0%3Aoob&scope=email%20https%3A%2F%2Fwww.googleapis.com%2Fauth%2Fdocs.test%20https%3A%2F%2Fwww.googleapis.com%2Fauth%2Fdrive%20https%3A%2F%2Fwww.googleapis.com%2Fauth%2Fdrive.photos.readonly%20https%3A%2F%2Fwww.googleapis.com%2Fauth%2Fpeopleapi.readonly&response_type=code\n",
            "\n",
            "Enter your authorization code:\n",
            "··········\n",
            "Mounted at /content/drive\n"
          ],
          "name": "stdout"
        }
      ]
    },
    {
      "metadata": {
        "id": "J-Pjvgu2a5xi",
        "colab_type": "code",
        "cellView": "form",
        "outputId": "56cd0ac3-9bfe-4790-8006-27b9ee54dca4",
        "colab": {
          "base_uri": "https://localhost:8080/",
          "height": 35
        }
      },
      "cell_type": "code",
      "source": [
        "#@title cd to project3 folder\n",
        "%cd 'drive/My Drive/Colab Notebooks/project3'"
      ],
      "execution_count": 5,
      "outputs": [
        {
          "output_type": "stream",
          "text": [
            "/content/drive/My Drive/Colab Notebooks/project3\n"
          ],
          "name": "stdout"
        }
      ]
    },
    {
      "metadata": {
        "id": "1hvdynmmDmm3",
        "colab_type": "code",
        "cellView": "form",
        "colab": {}
      },
      "cell_type": "code",
      "source": [
        "#@title pytorch version run test\n",
        "# import torch\n",
        "# !python test.py --input_dir \"../sample\" --output_dir \"../sample_out\" --style Hosoda --gpu 0"
      ],
      "execution_count": 0,
      "outputs": []
    },
    {
      "metadata": {
        "id": "aLm5_WJReeUV",
        "colab_type": "code",
        "cellView": "form",
        "colab": {}
      },
      "cell_type": "code",
      "source": [
        "#@title imports \n",
        "import cv2\n",
        "import numpy as np\n",
        "import os\n",
        "import argparse\n",
        "from PIL import Image\n",
        "import tensorflow as tf\n",
        "\n",
        "from keras.layers import Input, Conv2D, Conv2DTranspose, MaxPooling2D, Flatten, Dense, BatchNormalization, ReLU, Add, LeakyReLU\n",
        "from keras.models import Sequential, load_model\n",
        "from keras.optimizers import *\n",
        "from keras import Model\n",
        "\n",
        "from keras.applications.vgg19 import VGG19, preprocess_input\n",
        "from keras.preprocessing import image\n",
        "from keras import backend as K"
      ],
      "execution_count": 0,
      "outputs": []
    },
    {
      "metadata": {
        "id": "eAjxWGnSegps",
        "colab_type": "code",
        "cellView": "form",
        "colab": {}
      },
      "cell_type": "code",
      "source": [
        "#@title def make_generator (use: generator = make_generator())\n",
        "\n",
        "def make_generator():\n",
        "  in_ = Input(shape=(256, 256, 3))\n",
        "  conv1 = Conv2D(64, 7, padding=\"same\")(in_)\n",
        "  norm1 = BatchNormalization(epsilon=1e-9)(conv1)\n",
        "  relu1 = ReLU()(norm1)\n",
        "\n",
        "  # Down-convolution\n",
        "  conv2 = Conv2D(128, 3, padding=\"same\", strides=(2, 2))(relu1)\n",
        "  conv3 = Conv2D(128, 3, padding=\"same\")(conv2)\n",
        "  norm2 = BatchNormalization(epsilon=1e-9)(conv3)\n",
        "  relu2 = ReLU()(norm2)\n",
        "\n",
        "  conv4 = Conv2D(256, 3, padding=\"same\", strides=(2, 2))(relu2)\n",
        "  conv5 = Conv2D(256, 3, padding=\"same\")(conv4)\n",
        "  norm3 = BatchNormalization(epsilon=1e-9)(conv5)\n",
        "  relu3 = ReLU()(norm3)\n",
        "\n",
        "  # 8 residual blocks\n",
        "  # block_1\n",
        "  res_conv1_1 = Conv2D(256, 3, padding=\"same\")(relu3)\n",
        "  res_norm_1 = BatchNormalization(epsilon=1e-9)(res_conv1_1)\n",
        "  res_relu_1 = ReLU()(res_norm_1)\n",
        "  res_conv2_1 = Conv2D(256, 3, padding=\"same\")(res_relu_1)\n",
        "  res_norm2_1 = BatchNormalization(epsilon=1e-9)(res_conv2_1)\n",
        "  res_add_1 = Add()([relu3, res_norm2_1])\n",
        "\n",
        "  # block_2\n",
        "  res_conv1_2 = Conv2D(256, 3, padding=\"same\")(res_add_1)\n",
        "  res_norm_2 = BatchNormalization(epsilon=1e-9)(res_conv1_2)\n",
        "  res_relu_2 = ReLU()(res_norm_2)\n",
        "  res_conv2_2 = Conv2D(256, 3, padding=\"same\")(res_relu_2)\n",
        "  res_norm2_2 = BatchNormalization(epsilon=1e-9)(res_conv2_2)\n",
        "  res_add_2 = Add()([relu3, res_norm2_2])\n",
        "\n",
        "  # block_3\n",
        "  res_conv1_3 = Conv2D(256, 3, padding=\"same\")(res_add_2)\n",
        "  res_norm_3 = BatchNormalization(epsilon=1e-9)(res_conv1_3)\n",
        "  res_relu_3 = ReLU()(res_norm_3)\n",
        "  res_conv2_3 = Conv2D(256, 3, padding=\"same\")(res_relu_3)\n",
        "  res_norm2_3 = BatchNormalization(epsilon=1e-9)(res_conv2_3)\n",
        "  res_add_3 = Add()([relu3, res_norm2_3])\n",
        "\n",
        "  # block_4\n",
        "  res_conv1_4 = Conv2D(256, 3, padding=\"same\")(res_add_3)\n",
        "  res_norm_4 = BatchNormalization(epsilon=1e-9)(res_conv1_4)\n",
        "  res_relu_4 = ReLU()(res_norm_4)\n",
        "  res_conv2_4 = Conv2D(256, 3, padding=\"same\")(res_relu_4)\n",
        "  res_norm2_4 = BatchNormalization(epsilon=1e-9)(res_conv2_4)\n",
        "  res_add_4 = Add()([relu3, res_norm2_4])\n",
        "\n",
        "  # block_5\n",
        "  res_conv1_5 = Conv2D(256, 3, padding=\"same\")(res_add_4)\n",
        "  res_norm_5 = BatchNormalization(epsilon=1e-9)(res_conv1_5)\n",
        "  res_relu_5 = ReLU()(res_norm_5)\n",
        "  res_conv2_5 = Conv2D(256, 3, padding=\"same\")(res_relu_5)\n",
        "  res_norm2_5 = BatchNormalization(epsilon=1e-9)(res_conv2_5)\n",
        "  res_add_5 = Add()([relu3, res_norm2_5])\n",
        "\n",
        "  # block_6\n",
        "  res_conv1_6 = Conv2D(256, 3, padding=\"same\")(res_add_5)\n",
        "  res_norm_6 = BatchNormalization(epsilon=1e-9)(res_conv1_6)\n",
        "  res_relu_6 = ReLU()(res_norm_6)\n",
        "  res_conv2_6 = Conv2D(256, 3, padding=\"same\")(res_relu_6)\n",
        "  res_norm2_6 = BatchNormalization(epsilon=1e-9)(res_conv2_6)\n",
        "  res_add_6 = Add()([relu3, res_norm2_6])\n",
        "\n",
        "  # block_7\n",
        "  res_conv1_7 = Conv2D(256, 3, padding=\"same\")(res_add_6)\n",
        "  res_norm_7 = BatchNormalization(epsilon=1e-9)(res_conv1_7)\n",
        "  res_relu_7 = ReLU()(res_norm_7)\n",
        "  res_conv2_7 = Conv2D(256, 3, padding=\"same\")(res_relu_7)\n",
        "  res_norm2_7 = BatchNormalization(epsilon=1e-9)(res_conv2_7)\n",
        "  res_add_7 = Add()([relu3, res_norm2_7])\n",
        "\n",
        "  # block_8\n",
        "  res_conv1_8 = Conv2D(256, 3, padding=\"same\")(res_add_7)\n",
        "  res_norm_8 = BatchNormalization(epsilon=1e-9)(res_conv1_8)\n",
        "  res_relu_8 = ReLU()(res_norm_8)\n",
        "  res_conv2_8 = Conv2D(256, 3, padding=\"same\")(res_relu_8)\n",
        "  res_norm2_8 = BatchNormalization(epsilon=1e-9)(res_conv2_8)\n",
        "  res_add_8 = Add()([relu3, res_norm2_8])\n",
        "\n",
        "  # Up-convolution\n",
        "  upconv1 = Conv2DTranspose(128, 3, padding=\"same\", strides=(2, 2))(res_add_8)\n",
        "  upconv2 = Conv2D(128, 3, padding=\"same\")(upconv1)\n",
        "  upnorm1 = BatchNormalization(epsilon=1e-9)(upconv2)\n",
        "  uprelu1 = ReLU()(upnorm1)\n",
        "\n",
        "  upconv3 = Conv2DTranspose(64, 3, padding=\"same\", strides=(2, 2))(uprelu1)\n",
        "  upconv4 = Conv2D(64, 3, padding=\"same\")(upconv3)\n",
        "  upnorm2 = BatchNormalization(epsilon=1e-9)(upconv4)\n",
        "  uprelu2 = ReLU()(upnorm2)\n",
        "\n",
        "  out_ = Conv2D(3, 7)(uprelu2)\n",
        "  return Model(in_, out_)"
      ],
      "execution_count": 0,
      "outputs": []
    },
    {
      "metadata": {
        "id": "2SYq3jyV9Xqm",
        "colab_type": "code",
        "cellView": "form",
        "colab": {}
      },
      "cell_type": "code",
      "source": [
        "#@title def make_discriminator (use: discriminator = make_discriminator())\n",
        "\n",
        "def make_discriminator():\n",
        "  in_ = Input(shape=(256, 256, 3))\n",
        "  conv1 = Conv2D(32, 3, padding=\"same\")(in_)\n",
        "  relu1 = LeakyReLU(alpha=0.2)(conv1)\n",
        "\n",
        "  conv2 = Conv2D(64, 3, padding=\"same\", strides=(2, 2))(relu1)\n",
        "  relu2 = LeakyReLU(alpha=0.2)(conv2)\n",
        "  conv3 = Conv2D(128, 3, padding=\"same\")(relu2)\n",
        "  norm1 = BatchNormalization(epsilon=1e-9)(conv3)\n",
        "  relu3 = LeakyReLU(alpha=0.2)(norm1)\n",
        "\n",
        "  conv4 = Conv2D(128, 3, padding=\"same\", strides=(2, 2))(relu3)\n",
        "  relu4 = LeakyReLU(alpha=0.2)(conv4)\n",
        "  conv5 = Conv2D(256, 3, padding=\"same\")(relu4)\n",
        "  norm2 = BatchNormalization(epsilon=1e-9)(conv5)\n",
        "  relu5 = LeakyReLU(alpha=0.2)(norm2)\n",
        "\n",
        "  conv6 = Conv2D(256, 3, padding=\"same\")(relu5)\n",
        "  norm3 = BatchNormalization(epsilon=1e-9)(conv6)\n",
        "  relu6 = LeakyReLU(alpha=0.2)(norm3)\n",
        "  conv7 = Conv2D(1, 3, padding=\"same\")(relu6)\n",
        "  \n",
        "  flat = Flatten()(conv7)\n",
        "  \n",
        "  out_ = Dense(1, activation='softmax')(flat)\n",
        "  return Model(in_, out_)\n"
      ],
      "execution_count": 0,
      "outputs": []
    },
    {
      "metadata": {
        "id": "_wiNp2rr6AIq",
        "colab_type": "code",
        "cellView": "both",
        "colab": {}
      },
      "cell_type": "code",
      "source": [
        "#@title def vggLoss\n",
        "def vggLoss(a, b):\n",
        "  vgg = VGG19(weights='imagenet', include_top=False, input_shape=(256, 256, 3))\n",
        "#   a = a + tf.zeros((16, 256, 256, 3), dtype=a.dtype)\n",
        "#   b = b + tf.zeros((16, 256, 256, 3), dtype=b.dtype)\n",
        "#   diff = K.sum(a - b)\n",
        "  diff = vgg.predict(a) - vgg.predict(b)\n",
        "  return K.sum(K.abs(diff))\n"
      ],
      "execution_count": 0,
      "outputs": []
    },
    {
      "metadata": {
        "id": "MbsYivUC4JVg",
        "colab_type": "code",
        "colab": {}
      },
      "cell_type": "code",
      "source": [
        "def initVggLoss(a, b):\n",
        "  return K.sum(K.abs(a-b))"
      ],
      "execution_count": 0,
      "outputs": []
    },
    {
      "metadata": {
        "id": "XDqyNVkXYi1Z",
        "colab_type": "code",
        "cellView": "form",
        "colab": {}
      },
      "cell_type": "code",
      "source": [
        "#@title def edgeLoss\n",
        "def edgeLoss(a, b):\n",
        "  pass"
      ],
      "execution_count": 0,
      "outputs": []
    },
    {
      "metadata": {
        "id": "T2RjScOyc5B9",
        "colab_type": "code",
        "cellView": "both",
        "colab": {}
      },
      "cell_type": "code",
      "source": [
        "#@title def parseFramesFromVid #runs \n",
        "# def parseFramesFromVid(path):\n",
        "#   vidcap = cv2.VideoCapture(path)\n",
        "#   success,image = vidcap.read()\n",
        "#   count = 0\n",
        "#   while success:\n",
        "#     cv2.imwrite(\"keras_files/dataset/train/frame%d.jpg\" % count, image)\n",
        "#     success,image = vidcap.read()\n",
        "#     print(image.shape)\n",
        "#     count += 1\n",
        "\n",
        "# parseFramesFromVid('keras_files/tokyo.mp4') # this generates 6059 files"
      ],
      "execution_count": 0,
      "outputs": []
    },
    {
      "metadata": {
        "id": "7jqPtJe7gB_U",
        "colab_type": "code",
        "cellView": "both",
        "colab": {}
      },
      "cell_type": "code",
      "source": [
        "#@title def getDataFromPath\n",
        "def getDataFromPath(path):\n",
        "  data = []\n",
        "  for (_, _, fnames) in os.walk(path):\n",
        "    for fname in fnames:\n",
        "      fpath = path + \"/\" + fname\n",
        "      im = cv2.imread(fpath)\n",
        "      data.append(im)\n",
        "  return np.asarray(data)"
      ],
      "execution_count": 0,
      "outputs": []
    },
    {
      "metadata": {
        "id": "7vCtKgdOMjWq",
        "colab_type": "code",
        "cellView": "form",
        "colab": {}
      },
      "cell_type": "code",
      "source": [
        "#@title def getDataFromPathSingle (resizes and crops to center 256x256)\n",
        "def getDataFromPathSingle(paths):\n",
        "  data = []\n",
        "  for path in paths:\n",
        "    im = cv2.imread(path)\n",
        "    width = int(256/im.shape[0]*im.shape[1]) # calculate goal width, assuming width>height\n",
        "    im = cv2.resize(im, (width, 256)) # resize\n",
        "    crop_index = int(im.shape[1]/2 - 256/2) # crop index so width is 256\n",
        "    im = im[:, crop_index:crop_index+256] # crop\n",
        "    data.append(im)\n",
        "  return np.asarray(data)"
      ],
      "execution_count": 0,
      "outputs": []
    },
    {
      "metadata": {
        "id": "Xt0sbZZfA2sY",
        "colab_type": "code",
        "cellView": "both",
        "colab": {}
      },
      "cell_type": "code",
      "source": [
        "# #@title class CartoonGAN\n",
        "class CartoonGAN():\n",
        "  def __init__(self):\n",
        "    self.g = make_generator()\n",
        "    self.d = make_discriminator()\n",
        "    self.vgg = VGG19(weights='imagenet', include_top=False, input_shape=(256, 256, 3))\n",
        "    self.vgg.trainable = False\n",
        "    for l in self.vgg.layers:\n",
        "      l.trainable = False\n",
        "    self.vggout = self.vgg(self.g.output)\n",
        "    self.initModel = Model(self.g.input, self.vggout)\n",
        "    self.initModel.compile(loss=initVggLoss, optimizer='adam')\n",
        "    \n",
        "  \n",
        "  def pretrainGenerator(self, photos=None, epochs=5):\n",
        "    # goal of this step is to reconstruct image with \n",
        "    # references: https://stackoverflow.com/questions/43914931/vgg-perceptual-loss-in-keras\n",
        "    pretrain_path = 'keras_files/initializedGenerator.hdf5'\n",
        "    \n",
        "    if os.path.isfile(pretrain_path):\n",
        "#       print(self.g.get_weights())\n",
        "      self.initModel.load_weights(pretrain_path)\n",
        "#       print(self.g.get_weights())\n",
        "    else:\n",
        "      # adjust training data for combined model\n",
        "      goal_pred = self.vgg.predict(photos)\n",
        "\n",
        "      # train over combined model\n",
        "      self.initModel.fit(photos, goal_pred, batch_size=16, epochs=epochs)\n",
        "      self.g.save_weights(pretrain_path)\n",
        "  \n",
        "  def train(self, photos):\n",
        "    pass\n",
        "  \n",
        "  def generate(self, photos):\n",
        "    gen_pred = self.g.predict(photos)\n",
        "    print(gen_pred.shape)\n",
        "    for i in range(gen_pred.shape[0]):\n",
        "      im_array = gen_pred[i]\n",
        "      im = Image.fromarray((im_array * 255 / np.max(im_array)).astype('uint8'))\n",
        "      im.save('keras_files/sample_out/' + str(i) + '.jpg')\n",
        "    "
      ],
      "execution_count": 0,
      "outputs": []
    },
    {
      "metadata": {
        "id": "1n9dzk5-opUD",
        "colab_type": "code",
        "colab": {}
      },
      "cell_type": "code",
      "source": [
        "photos = getDataFromPath('keras_files/dataset/train256x256')"
      ],
      "execution_count": 0,
      "outputs": []
    },
    {
      "metadata": {
        "id": "ROfmsqaHC5se",
        "colab_type": "code",
        "colab": {
          "base_uri": "https://localhost:8080/",
          "height": 35
        },
        "outputId": "dda8c614-7792-4afb-ddd8-47797c4a1bf0"
      },
      "cell_type": "code",
      "source": [
        "print(photos.shape)"
      ],
      "execution_count": 49,
      "outputs": [
        {
          "output_type": "stream",
          "text": [
            "(6059, 256, 256, 3)\n"
          ],
          "name": "stdout"
        }
      ]
    },
    {
      "metadata": {
        "id": "5Rj7fh93M5FM",
        "colab_type": "code",
        "cellView": "both",
        "colab": {
          "base_uri": "https://localhost:8080/",
          "height": 1610
        },
        "outputId": "04b6cb3d-0252-4e72-942b-b3d864c75303"
      },
      "cell_type": "code",
      "source": [
        "#@title create GAN and run initializer\n",
        "gan = CartoonGAN()\n",
        "gan.pretrainGenerator(photos=photos, epochs=20)\n",
        "# gan.pretrainGenerator()"
      ],
      "execution_count": 41,
      "outputs": [
        {
          "output_type": "error",
          "ename": "TypeError",
          "evalue": "ignored",
          "traceback": [
            "\u001b[0;31m---------------------------------------------------------------------------\u001b[0m",
            "\u001b[0;31mTypeError\u001b[0m                                 Traceback (most recent call last)",
            "\u001b[0;32m<ipython-input-41-c881505dbe45>\u001b[0m in \u001b[0;36m<module>\u001b[0;34m()\u001b[0m\n\u001b[1;32m      1\u001b[0m \u001b[0mgan\u001b[0m \u001b[0;34m=\u001b[0m \u001b[0mCartoonGAN\u001b[0m\u001b[0;34m(\u001b[0m\u001b[0;34m)\u001b[0m\u001b[0;34m\u001b[0m\u001b[0;34m\u001b[0m\u001b[0m\n\u001b[1;32m      2\u001b[0m \u001b[0;31m# gan.pretrainGenerator(photos=photos, epochs=20)\u001b[0m\u001b[0;34m\u001b[0m\u001b[0;34m\u001b[0m\u001b[0;34m\u001b[0m\u001b[0m\n\u001b[0;32m----> 3\u001b[0;31m \u001b[0mgan\u001b[0m\u001b[0;34m.\u001b[0m\u001b[0mpretrainGenerator\u001b[0m\u001b[0;34m(\u001b[0m\u001b[0;34m)\u001b[0m\u001b[0;34m\u001b[0m\u001b[0;34m\u001b[0m\u001b[0m\n\u001b[0m",
            "\u001b[0;32m<ipython-input-40-e449f716b2b7>\u001b[0m in \u001b[0;36mpretrainGenerator\u001b[0;34m(self, photos, epochs)\u001b[0m\n\u001b[1;32m     19\u001b[0m     \u001b[0;32mif\u001b[0m \u001b[0mos\u001b[0m\u001b[0;34m.\u001b[0m\u001b[0mpath\u001b[0m\u001b[0;34m.\u001b[0m\u001b[0misfile\u001b[0m\u001b[0;34m(\u001b[0m\u001b[0mpretrain_path\u001b[0m\u001b[0;34m)\u001b[0m\u001b[0;34m:\u001b[0m\u001b[0;34m\u001b[0m\u001b[0;34m\u001b[0m\u001b[0m\n\u001b[1;32m     20\u001b[0m \u001b[0;31m#       print(self.g.get_weights())\u001b[0m\u001b[0;34m\u001b[0m\u001b[0;34m\u001b[0m\u001b[0;34m\u001b[0m\u001b[0m\n\u001b[0;32m---> 21\u001b[0;31m       \u001b[0mload_model\u001b[0m\u001b[0;34m(\u001b[0m\u001b[0mpretrain_path\u001b[0m\u001b[0;34m,\u001b[0m \u001b[0mcustom_objects\u001b[0m\u001b[0;34m=\u001b[0m\u001b[0;34m{\u001b[0m\u001b[0;34m'Conv'\u001b[0m\u001b[0;34m:\u001b[0m \u001b[0mConv\u001b[0m\u001b[0;34m}\u001b[0m\u001b[0;34m)\u001b[0m\u001b[0;34m\u001b[0m\u001b[0;34m\u001b[0m\u001b[0m\n\u001b[0m\u001b[1;32m     22\u001b[0m \u001b[0;31m#       print(self.g.get_weights())\u001b[0m\u001b[0;34m\u001b[0m\u001b[0;34m\u001b[0m\u001b[0;34m\u001b[0m\u001b[0m\n\u001b[1;32m     23\u001b[0m     \u001b[0;32melse\u001b[0m\u001b[0;34m:\u001b[0m\u001b[0;34m\u001b[0m\u001b[0;34m\u001b[0m\u001b[0m\n",
            "\u001b[0;32m/usr/local/lib/python3.6/dist-packages/keras/engine/saving.py\u001b[0m in \u001b[0;36mload_model\u001b[0;34m(filepath, custom_objects, compile)\u001b[0m\n\u001b[1;32m    417\u001b[0m     \u001b[0mf\u001b[0m \u001b[0;34m=\u001b[0m \u001b[0mh5dict\u001b[0m\u001b[0;34m(\u001b[0m\u001b[0mfilepath\u001b[0m\u001b[0;34m,\u001b[0m \u001b[0;34m'r'\u001b[0m\u001b[0;34m)\u001b[0m\u001b[0;34m\u001b[0m\u001b[0;34m\u001b[0m\u001b[0m\n\u001b[1;32m    418\u001b[0m     \u001b[0;32mtry\u001b[0m\u001b[0;34m:\u001b[0m\u001b[0;34m\u001b[0m\u001b[0;34m\u001b[0m\u001b[0m\n\u001b[0;32m--> 419\u001b[0;31m         \u001b[0mmodel\u001b[0m \u001b[0;34m=\u001b[0m \u001b[0m_deserialize_model\u001b[0m\u001b[0;34m(\u001b[0m\u001b[0mf\u001b[0m\u001b[0;34m,\u001b[0m \u001b[0mcustom_objects\u001b[0m\u001b[0;34m,\u001b[0m \u001b[0mcompile\u001b[0m\u001b[0;34m)\u001b[0m\u001b[0;34m\u001b[0m\u001b[0;34m\u001b[0m\u001b[0m\n\u001b[0m\u001b[1;32m    420\u001b[0m     \u001b[0;32mfinally\u001b[0m\u001b[0;34m:\u001b[0m\u001b[0;34m\u001b[0m\u001b[0;34m\u001b[0m\u001b[0m\n\u001b[1;32m    421\u001b[0m         \u001b[0;32mif\u001b[0m \u001b[0mopened_new_file\u001b[0m\u001b[0;34m:\u001b[0m\u001b[0;34m\u001b[0m\u001b[0;34m\u001b[0m\u001b[0m\n",
            "\u001b[0;32m/usr/local/lib/python3.6/dist-packages/keras/engine/saving.py\u001b[0m in \u001b[0;36m_deserialize_model\u001b[0;34m(f, custom_objects, compile)\u001b[0m\n\u001b[1;32m    223\u001b[0m         \u001b[0;32mraise\u001b[0m \u001b[0mValueError\u001b[0m\u001b[0;34m(\u001b[0m\u001b[0;34m'No model found in config.'\u001b[0m\u001b[0;34m)\u001b[0m\u001b[0;34m\u001b[0m\u001b[0;34m\u001b[0m\u001b[0m\n\u001b[1;32m    224\u001b[0m     \u001b[0mmodel_config\u001b[0m \u001b[0;34m=\u001b[0m \u001b[0mjson\u001b[0m\u001b[0;34m.\u001b[0m\u001b[0mloads\u001b[0m\u001b[0;34m(\u001b[0m\u001b[0mmodel_config\u001b[0m\u001b[0;34m.\u001b[0m\u001b[0mdecode\u001b[0m\u001b[0;34m(\u001b[0m\u001b[0;34m'utf-8'\u001b[0m\u001b[0;34m)\u001b[0m\u001b[0;34m)\u001b[0m\u001b[0;34m\u001b[0m\u001b[0;34m\u001b[0m\u001b[0m\n\u001b[0;32m--> 225\u001b[0;31m     \u001b[0mmodel\u001b[0m \u001b[0;34m=\u001b[0m \u001b[0mmodel_from_config\u001b[0m\u001b[0;34m(\u001b[0m\u001b[0mmodel_config\u001b[0m\u001b[0;34m,\u001b[0m \u001b[0mcustom_objects\u001b[0m\u001b[0;34m=\u001b[0m\u001b[0mcustom_objects\u001b[0m\u001b[0;34m)\u001b[0m\u001b[0;34m\u001b[0m\u001b[0;34m\u001b[0m\u001b[0m\n\u001b[0m\u001b[1;32m    226\u001b[0m     \u001b[0mmodel_weights_group\u001b[0m \u001b[0;34m=\u001b[0m \u001b[0mf\u001b[0m\u001b[0;34m[\u001b[0m\u001b[0;34m'model_weights'\u001b[0m\u001b[0;34m]\u001b[0m\u001b[0;34m\u001b[0m\u001b[0;34m\u001b[0m\u001b[0m\n\u001b[1;32m    227\u001b[0m \u001b[0;34m\u001b[0m\u001b[0m\n",
            "\u001b[0;32m/usr/local/lib/python3.6/dist-packages/keras/engine/saving.py\u001b[0m in \u001b[0;36mmodel_from_config\u001b[0;34m(config, custom_objects)\u001b[0m\n\u001b[1;32m    456\u001b[0m                         '`Sequential.from_config(config)`?')\n\u001b[1;32m    457\u001b[0m     \u001b[0;32mfrom\u001b[0m \u001b[0;34m.\u001b[0m\u001b[0;34m.\u001b[0m\u001b[0mlayers\u001b[0m \u001b[0;32mimport\u001b[0m \u001b[0mdeserialize\u001b[0m\u001b[0;34m\u001b[0m\u001b[0;34m\u001b[0m\u001b[0m\n\u001b[0;32m--> 458\u001b[0;31m     \u001b[0;32mreturn\u001b[0m \u001b[0mdeserialize\u001b[0m\u001b[0;34m(\u001b[0m\u001b[0mconfig\u001b[0m\u001b[0;34m,\u001b[0m \u001b[0mcustom_objects\u001b[0m\u001b[0;34m=\u001b[0m\u001b[0mcustom_objects\u001b[0m\u001b[0;34m)\u001b[0m\u001b[0;34m\u001b[0m\u001b[0;34m\u001b[0m\u001b[0m\n\u001b[0m\u001b[1;32m    459\u001b[0m \u001b[0;34m\u001b[0m\u001b[0m\n\u001b[1;32m    460\u001b[0m \u001b[0;34m\u001b[0m\u001b[0m\n",
            "\u001b[0;32m/usr/local/lib/python3.6/dist-packages/keras/layers/__init__.py\u001b[0m in \u001b[0;36mdeserialize\u001b[0;34m(config, custom_objects)\u001b[0m\n\u001b[1;32m     53\u001b[0m                                     \u001b[0mmodule_objects\u001b[0m\u001b[0;34m=\u001b[0m\u001b[0mglobs\u001b[0m\u001b[0;34m,\u001b[0m\u001b[0;34m\u001b[0m\u001b[0;34m\u001b[0m\u001b[0m\n\u001b[1;32m     54\u001b[0m                                     \u001b[0mcustom_objects\u001b[0m\u001b[0;34m=\u001b[0m\u001b[0mcustom_objects\u001b[0m\u001b[0;34m,\u001b[0m\u001b[0;34m\u001b[0m\u001b[0;34m\u001b[0m\u001b[0m\n\u001b[0;32m---> 55\u001b[0;31m                                     printable_module_name='layer')\n\u001b[0m",
            "\u001b[0;32m/usr/local/lib/python3.6/dist-packages/keras/utils/generic_utils.py\u001b[0m in \u001b[0;36mdeserialize_keras_object\u001b[0;34m(identifier, module_objects, custom_objects, printable_module_name)\u001b[0m\n\u001b[1;32m    143\u001b[0m                     \u001b[0mconfig\u001b[0m\u001b[0;34m[\u001b[0m\u001b[0;34m'config'\u001b[0m\u001b[0;34m]\u001b[0m\u001b[0;34m,\u001b[0m\u001b[0;34m\u001b[0m\u001b[0;34m\u001b[0m\u001b[0m\n\u001b[1;32m    144\u001b[0m                     custom_objects=dict(list(_GLOBAL_CUSTOM_OBJECTS.items()) +\n\u001b[0;32m--> 145\u001b[0;31m                                         list(custom_objects.items())))\n\u001b[0m\u001b[1;32m    146\u001b[0m             \u001b[0;32mwith\u001b[0m \u001b[0mCustomObjectScope\u001b[0m\u001b[0;34m(\u001b[0m\u001b[0mcustom_objects\u001b[0m\u001b[0;34m)\u001b[0m\u001b[0;34m:\u001b[0m\u001b[0;34m\u001b[0m\u001b[0;34m\u001b[0m\u001b[0m\n\u001b[1;32m    147\u001b[0m                 \u001b[0;32mreturn\u001b[0m \u001b[0mcls\u001b[0m\u001b[0;34m.\u001b[0m\u001b[0mfrom_config\u001b[0m\u001b[0;34m(\u001b[0m\u001b[0mconfig\u001b[0m\u001b[0;34m[\u001b[0m\u001b[0;34m'config'\u001b[0m\u001b[0;34m]\u001b[0m\u001b[0;34m)\u001b[0m\u001b[0;34m\u001b[0m\u001b[0;34m\u001b[0m\u001b[0m\n",
            "\u001b[0;32m/usr/local/lib/python3.6/dist-packages/keras/engine/network.py\u001b[0m in \u001b[0;36mfrom_config\u001b[0;34m(cls, config, custom_objects)\u001b[0m\n\u001b[1;32m   1020\u001b[0m         \u001b[0;31m# First, we create all layers and enqueue nodes to be processed\u001b[0m\u001b[0;34m\u001b[0m\u001b[0;34m\u001b[0m\u001b[0;34m\u001b[0m\u001b[0m\n\u001b[1;32m   1021\u001b[0m         \u001b[0;32mfor\u001b[0m \u001b[0mlayer_data\u001b[0m \u001b[0;32min\u001b[0m \u001b[0mconfig\u001b[0m\u001b[0;34m[\u001b[0m\u001b[0;34m'layers'\u001b[0m\u001b[0;34m]\u001b[0m\u001b[0;34m:\u001b[0m\u001b[0;34m\u001b[0m\u001b[0;34m\u001b[0m\u001b[0m\n\u001b[0;32m-> 1022\u001b[0;31m             \u001b[0mprocess_layer\u001b[0m\u001b[0;34m(\u001b[0m\u001b[0mlayer_data\u001b[0m\u001b[0;34m)\u001b[0m\u001b[0;34m\u001b[0m\u001b[0;34m\u001b[0m\u001b[0m\n\u001b[0m\u001b[1;32m   1023\u001b[0m         \u001b[0;31m# Then we process nodes in order of layer depth.\u001b[0m\u001b[0;34m\u001b[0m\u001b[0;34m\u001b[0m\u001b[0;34m\u001b[0m\u001b[0m\n\u001b[1;32m   1024\u001b[0m         \u001b[0;31m# Nodes that cannot yet be processed (if the inbound node\u001b[0m\u001b[0;34m\u001b[0m\u001b[0;34m\u001b[0m\u001b[0;34m\u001b[0m\u001b[0m\n",
            "\u001b[0;32m/usr/local/lib/python3.6/dist-packages/keras/engine/network.py\u001b[0m in \u001b[0;36mprocess_layer\u001b[0;34m(layer_data)\u001b[0m\n\u001b[1;32m   1006\u001b[0m \u001b[0;34m\u001b[0m\u001b[0m\n\u001b[1;32m   1007\u001b[0m             layer = deserialize_layer(layer_data,\n\u001b[0;32m-> 1008\u001b[0;31m                                       custom_objects=custom_objects)\n\u001b[0m\u001b[1;32m   1009\u001b[0m             \u001b[0mcreated_layers\u001b[0m\u001b[0;34m[\u001b[0m\u001b[0mlayer_name\u001b[0m\u001b[0;34m]\u001b[0m \u001b[0;34m=\u001b[0m \u001b[0mlayer\u001b[0m\u001b[0;34m\u001b[0m\u001b[0;34m\u001b[0m\u001b[0m\n\u001b[1;32m   1010\u001b[0m \u001b[0;34m\u001b[0m\u001b[0m\n",
            "\u001b[0;32m/usr/local/lib/python3.6/dist-packages/keras/layers/__init__.py\u001b[0m in \u001b[0;36mdeserialize\u001b[0;34m(config, custom_objects)\u001b[0m\n\u001b[1;32m     53\u001b[0m                                     \u001b[0mmodule_objects\u001b[0m\u001b[0;34m=\u001b[0m\u001b[0mglobs\u001b[0m\u001b[0;34m,\u001b[0m\u001b[0;34m\u001b[0m\u001b[0;34m\u001b[0m\u001b[0m\n\u001b[1;32m     54\u001b[0m                                     \u001b[0mcustom_objects\u001b[0m\u001b[0;34m=\u001b[0m\u001b[0mcustom_objects\u001b[0m\u001b[0;34m,\u001b[0m\u001b[0;34m\u001b[0m\u001b[0;34m\u001b[0m\u001b[0m\n\u001b[0;32m---> 55\u001b[0;31m                                     printable_module_name='layer')\n\u001b[0m",
            "\u001b[0;32m/usr/local/lib/python3.6/dist-packages/keras/utils/generic_utils.py\u001b[0m in \u001b[0;36mdeserialize_keras_object\u001b[0;34m(identifier, module_objects, custom_objects, printable_module_name)\u001b[0m\n\u001b[1;32m    145\u001b[0m                                         list(custom_objects.items())))\n\u001b[1;32m    146\u001b[0m             \u001b[0;32mwith\u001b[0m \u001b[0mCustomObjectScope\u001b[0m\u001b[0;34m(\u001b[0m\u001b[0mcustom_objects\u001b[0m\u001b[0;34m)\u001b[0m\u001b[0;34m:\u001b[0m\u001b[0;34m\u001b[0m\u001b[0;34m\u001b[0m\u001b[0m\n\u001b[0;32m--> 147\u001b[0;31m                 \u001b[0;32mreturn\u001b[0m \u001b[0mcls\u001b[0m\u001b[0;34m.\u001b[0m\u001b[0mfrom_config\u001b[0m\u001b[0;34m(\u001b[0m\u001b[0mconfig\u001b[0m\u001b[0;34m[\u001b[0m\u001b[0;34m'config'\u001b[0m\u001b[0;34m]\u001b[0m\u001b[0;34m)\u001b[0m\u001b[0;34m\u001b[0m\u001b[0;34m\u001b[0m\u001b[0m\n\u001b[0m\u001b[1;32m    148\u001b[0m         \u001b[0;32melse\u001b[0m\u001b[0;34m:\u001b[0m\u001b[0;34m\u001b[0m\u001b[0;34m\u001b[0m\u001b[0m\n\u001b[1;32m    149\u001b[0m             \u001b[0;31m# Then `cls` may be a function returning a class.\u001b[0m\u001b[0;34m\u001b[0m\u001b[0;34m\u001b[0m\u001b[0;34m\u001b[0m\u001b[0m\n",
            "\u001b[0;32m/usr/local/lib/python3.6/dist-packages/keras/engine/base_layer.py\u001b[0m in \u001b[0;36mfrom_config\u001b[0;34m(cls, config)\u001b[0m\n\u001b[1;32m   1107\u001b[0m             \u001b[0mA\u001b[0m \u001b[0mlayer\u001b[0m \u001b[0minstance\u001b[0m\u001b[0;34m.\u001b[0m\u001b[0;34m\u001b[0m\u001b[0;34m\u001b[0m\u001b[0m\n\u001b[1;32m   1108\u001b[0m         \"\"\"\n\u001b[0;32m-> 1109\u001b[0;31m         \u001b[0;32mreturn\u001b[0m \u001b[0mcls\u001b[0m\u001b[0;34m(\u001b[0m\u001b[0;34m**\u001b[0m\u001b[0mconfig\u001b[0m\u001b[0;34m)\u001b[0m\u001b[0;34m\u001b[0m\u001b[0;34m\u001b[0m\u001b[0m\n\u001b[0m\u001b[1;32m   1110\u001b[0m \u001b[0;34m\u001b[0m\u001b[0m\n\u001b[1;32m   1111\u001b[0m     \u001b[0;32mdef\u001b[0m \u001b[0mcount_params\u001b[0m\u001b[0;34m(\u001b[0m\u001b[0mself\u001b[0m\u001b[0;34m)\u001b[0m\u001b[0;34m:\u001b[0m\u001b[0;34m\u001b[0m\u001b[0;34m\u001b[0m\u001b[0m\n",
            "\u001b[0;32m<ipython-input-25-7a307524129e>\u001b[0m in \u001b[0;36m__init__\u001b[0;34m(self, filters, kernel_size, **kwargs)\u001b[0m\n\u001b[1;32m      1\u001b[0m \u001b[0;32mclass\u001b[0m \u001b[0mConv\u001b[0m\u001b[0;34m(\u001b[0m\u001b[0mConv2D\u001b[0m\u001b[0;34m)\u001b[0m\u001b[0;34m:\u001b[0m\u001b[0;34m\u001b[0m\u001b[0;34m\u001b[0m\u001b[0m\n\u001b[1;32m      2\u001b[0m   \u001b[0;32mdef\u001b[0m \u001b[0m__init__\u001b[0m\u001b[0;34m(\u001b[0m\u001b[0mself\u001b[0m\u001b[0;34m,\u001b[0m \u001b[0mfilters\u001b[0m\u001b[0;34m,\u001b[0m \u001b[0mkernel_size\u001b[0m\u001b[0;34m,\u001b[0m \u001b[0;34m**\u001b[0m\u001b[0mkwargs\u001b[0m\u001b[0;34m)\u001b[0m\u001b[0;34m:\u001b[0m\u001b[0;34m\u001b[0m\u001b[0;34m\u001b[0m\u001b[0m\n\u001b[0;32m----> 3\u001b[0;31m     \u001b[0msuper\u001b[0m\u001b[0;34m(\u001b[0m\u001b[0mConv\u001b[0m\u001b[0;34m,\u001b[0m \u001b[0mself\u001b[0m\u001b[0;34m)\u001b[0m\u001b[0;34m.\u001b[0m\u001b[0m__init__\u001b[0m\u001b[0;34m(\u001b[0m\u001b[0mfilters\u001b[0m\u001b[0;34m,\u001b[0m \u001b[0mkernel_size\u001b[0m\u001b[0;34m,\u001b[0m \u001b[0mpadding\u001b[0m\u001b[0;34m=\u001b[0m\u001b[0;34m\"same\"\u001b[0m\u001b[0;34m,\u001b[0m \u001b[0;34m**\u001b[0m\u001b[0mkwargs\u001b[0m\u001b[0;34m)\u001b[0m\u001b[0;34m\u001b[0m\u001b[0;34m\u001b[0m\u001b[0m\n\u001b[0m",
            "\u001b[0;31mTypeError\u001b[0m: __init__() got multiple values for keyword argument 'padding'"
          ]
        }
      ]
    },
    {
      "metadata": {
        "id": "ZCPWW9xUkgz4",
        "colab_type": "code",
        "colab": {
          "base_uri": "https://localhost:8080/",
          "height": 53
        },
        "outputId": "c13c42e3-0433-489f-9b14-547f6e1fb7a4"
      },
      "cell_type": "code",
      "source": [
        "!ls"
      ],
      "execution_count": 19,
      "outputs": [
        {
          "output_type": "stream",
          "text": [
            "CartoonGAN-Test-Pytorch-Torch  LICENSE\t  RunCartoonGAN.ipynb  sample_out\n",
            "keras_files\t\t       README.md  sample\n"
          ],
          "name": "stdout"
        }
      ]
    },
    {
      "metadata": {
        "id": "pIcqO1fQDiGv",
        "colab_type": "code",
        "cellView": "both",
        "colab": {}
      },
      "cell_type": "code",
      "source": [
        "#@title test generate\n",
        "testdata = getDataFromPathSingle(['keras_files/dataset/train/frame1545.jpg', 'keras_files/dataset/train/frame1546.jpg'])\n",
        "gan.generate(testdata)"
      ],
      "execution_count": 0,
      "outputs": []
    },
    {
      "metadata": {
        "id": "No0connTWxQp",
        "colab_type": "code",
        "colab": {}
      },
      "cell_type": "code",
      "source": [
        "#@title train GAN\n",
        "gan.train()"
      ],
      "execution_count": 0,
      "outputs": []
    }
  ]
}